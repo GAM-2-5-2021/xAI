{
  "nbformat": 4,
  "nbformat_minor": 0,
  "metadata": {
    "colab": {
      "name": "u-jhellison.ipynb",
      "provenance": [],
      "collapsed_sections": []
    },
    "kernelspec": {
      "name": "python3",
      "display_name": "Python 3"
    },
    "language_info": {
      "name": "python"
    }
  },
  "cells": [
    {
      "cell_type": "code",
      "metadata": {
        "id": "A4Qj5hzjCzOH"
      },
      "source": [
        "from google.colab import drive\n",
        "drive.mount('/content/gdrive')"
      ],
      "execution_count": null,
      "outputs": []
    },
    {
      "cell_type": "code",
      "metadata": {
        "id": "McCfnltrFpKE"
      },
      "source": [
        "import numpy as np\n",
        "import matplotlib.pyplot as plt\n",
        "import os\n",
        "import csv\n",
        "import cv2\n",
        "import imutils\n",
        "from google.colab.patches import cv2_imshow\n",
        "import imutils\n",
        "import pandas as pd"
      ],
      "execution_count": null,
      "outputs": []
    },
    {
      "cell_type": "code",
      "metadata": {
        "id": "CWTAnfGCG2Dc"
      },
      "source": [
        "TRAINING_DATA_PATH = \"/content/gdrive/MyDrive/Images/train\"\n",
        "TESTING_DATA_PATH = \"/content/gdrive/MyDrive/Images/test\"\n",
        "\n",
        "TRAINING_DATA_CSV = \"/content/gdrive/MyDrive/Images/assignment5_training_data_metadata.csv\"\n",
        "\n",
        "CATEGORIES = [\"normal\", \"virus\", \"bacteria\"]"
      ],
      "execution_count": null,
      "outputs": []
    },
    {
      "cell_type": "code",
      "metadata": {
        "id": "TQw59ZGRF5PL"
      },
      "source": [
        "content = pd.read_csv(TRAINING_DATA_CSV, usecols = ['image_name', 'type'], low_memory = True)\n",
        "training_list = {}\n",
        "\n",
        "#Looping through every row, defining category for each image, skipping 'stress smoking' - not enough samples\n",
        "for index, row in content.iterrows():\n",
        "    if pd.isna(row['type']):\n",
        "        training_list.update({row['image_name'].lower(): 0})\n",
        "    else:\n",
        "      if row['type'].lower() != \"stress-smoking\":\n",
        "        training_list.update({row['image_name'].lower(): CATEGORIES.index(row['type'].lower())})\n"
      ],
      "execution_count": null,
      "outputs": []
    },
    {
      "cell_type": "code",
      "metadata": {
        "id": "Vew0jijSKDb4"
      },
      "source": [
        "#Setting image size for training data\n",
        "IMG_SIZE = 250"
      ],
      "execution_count": null,
      "outputs": []
    },
    {
      "cell_type": "code",
      "metadata": {
        "id": "8Icmof3lq2WD"
      },
      "source": [
        "training_data = []\n",
        "newIndex = 0\n",
        "\n",
        "normalNumber, normalIndex = 0, []\n",
        "virusNumber, virusIndex = 0, []\n",
        "bacteriaNumber, bacteriaIndex = 0, []\n",
        "smokeNumber, smokeIndex = 0, []\n",
        "\n",
        "#Looping through every image from TRAINING_DATA_PATH, reading it, resizing it and adding to the training data.\n",
        "for img in os.listdir(TRAINING_DATA_PATH):\n",
        "  index = training_list.get(img.lower())\n",
        "  if index != None:\n",
        "    newIndex += 1\n",
        "    if CATEGORIES[index] == \"virus\":\n",
        "      virusNumber += 1\n",
        "      virusIndex.append(img)\n",
        "    elif CATEGORIES[index] == \"bacteria\":\n",
        "      bacteriaNumber += 1\n",
        "      bacteriaIndex.append(img)\n",
        "    else:\n",
        "      normalNumber += 1\n",
        "      normalIndex.append(img)\n",
        "    \n",
        "    img_array = cv2.imread(os.path.join(TRAINING_DATA_PATH, img), cv2.IMREAD_GRAYSCALE)   #reading the image - then resizing it\n",
        "    img_array = cv2.resize(img_array, (IMG_SIZE, IMG_SIZE))\n",
        "    training_data.append([img_array, index])\n",
        "  #print(newIndex)    #used for debugging - just so you know if the program is running correctly\n"
      ],
      "execution_count": null,
      "outputs": []
    },
    {
      "cell_type": "code",
      "metadata": {
        "id": "gX35ptzgqv0e"
      },
      "source": [
        "import random\n",
        "from random import randint\n",
        " \n",
        "def generateImage(_img):  #Rotating an image for +- maxRotateAngle.\n",
        "  maxRotateAngle = 1.5\n",
        "  rotated = imutils.rotate(_img, (random.random() * (2*maxRotateAngle)) - maxRotateAngle)\n",
        "  return rotated\n",
        " \n",
        "def dataAug():  #Generating new images as a part of data augmentation --> equalizing a number of images.\n",
        "  most = max(normalNumber, virusNumber, bacteriaNumber)\n",
        "  for norm in range(most-normalNumber):\n",
        "    index = randint(0, len(normalIndex))\n",
        "    img_array = cv2.imread(os.path.join(TRAINING_DATA_PATH, virusIndex[index]), cv2.IMREAD_GRAYSCALE)\n",
        "    try:\n",
        "      img_array = cv2.resize(img_array, (IMG_SIZE, IMG_SIZE))\n",
        "      training_data.append([generateImage(img_array), 0])\n",
        "    except Exception as e:\n",
        "      pass\n",
        "\n",
        "  for vir in range(most-virusNumber):\n",
        "    index = randint(0, len(virusIndex)-1)\n",
        "    img_array = cv2.imread(os.path.join(TRAINING_DATA_PATH, virusIndex[index]), cv2.IMREAD_GRAYSCALE)\n",
        "    try:\n",
        "      img_array = cv2.resize(img_array, (IMG_SIZE, IMG_SIZE))\n",
        "      training_data.append([generateImage(img_array), 1])\n",
        "    except Exception as e:\n",
        "      pass\n",
        "\n",
        "  for bac in range(most-bacteriaNumber):\n",
        "    index = randint(0, len(bacteriaIndex)-1)\n",
        "    img_array = cv2.imread(os.path.join(TRAINING_DATA_PATH, virusIndex[index]), cv2.IMREAD_GRAYSCALE)\n",
        "    try:\n",
        "      img_array = cv2.resize(img_array, (IMG_SIZE, IMG_SIZE))\n",
        "      training_data.append([generateImage(img_array), 2])\n",
        "    except Exception as e:\n",
        "      pass\n",
        "\n",
        "dataAug()"
      ],
      "execution_count": null,
      "outputs": []
    },
    {
      "cell_type": "code",
      "metadata": {
        "id": "nxerkQD4rkIA"
      },
      "source": [
        "import random\n",
        "random.shuffle(training_data) #Shuffling the data."
      ],
      "execution_count": null,
      "outputs": []
    },
    {
      "cell_type": "code",
      "metadata": {
        "id": "nFdJ_tPex-IH"
      },
      "source": [
        "X, y = [], []"
      ],
      "execution_count": null,
      "outputs": []
    },
    {
      "cell_type": "code",
      "metadata": {
        "id": "ASLxzFKkwpOw"
      },
      "source": [
        "for features, label in training_data: #Dividing labels and features.\n",
        "  X.append(features)\n",
        "  y.append(label)\n"
      ],
      "execution_count": null,
      "outputs": []
    },
    {
      "cell_type": "code",
      "metadata": {
        "id": "Hov71XqQzzt2"
      },
      "source": [
        "import pickle\n",
        "\n",
        "#Saving the training data.\n",
        "#Using pickle to save the arrays, so there is no need of running the code above multiple times\n",
        "pickle_out = open(\"/content/gdrive/MyDrive/x.pickle\", \"wb\")\n",
        "pickle.dump(X, pickle_out)\n",
        "pickle_out.close()\n",
        "\n",
        "pickle_out = open(\"/content/gdrive/MyDrive/y.pickle\", \"wb\")\n",
        "pickle.dump(y, pickle_out)\n",
        "pickle_out.close()"
      ],
      "execution_count": null,
      "outputs": []
    },
    {
      "cell_type": "code",
      "metadata": {
        "id": "yASr1STO0Vc6"
      },
      "source": [
        "import tensorflow as tf\n",
        "\n",
        "from tensorflow.keras.models import Sequential\n",
        "from tensorflow.keras.layers import Dense, Dropout, Activation, Flatten, Conv2D, MaxPooling2D\n"
      ],
      "execution_count": null,
      "outputs": []
    },
    {
      "cell_type": "code",
      "metadata": {
        "id": "SrKdB72H3azO"
      },
      "source": [
        "import pickle\n",
        "\n",
        "#Loading previously stored training data.\n",
        "X = pickle.load(open(\"/content/gdrive/MyDrive/x.pickle\", \"rb\"))\n",
        "y = pickle.load(open(\"/content/gdrive/MyDrive/y.pickle\", \"rb\"))"
      ],
      "execution_count": null,
      "outputs": []
    },
    {
      "cell_type": "code",
      "metadata": {
        "id": "SDweD_gW00B3",
        "colab": {
          "base_uri": "https://localhost:8080/",
          "height": 214
        },
        "outputId": "349436c8-0e49-48d4-dd22-5b5a79d16bee"
      },
      "source": [
        "X = np.array(X).reshape(-1, IMG_SIZE, IMG_SIZE, 1)\n",
        "y = np.array(y)\n",
        "X = X/255 #normalization - the image values are always between 0-255, so by dividing them by 255 we get a 0-1 range\n",
        "#######\n",
        "# got the best results with normalization, widely used for image ML\n",
        "#######"
      ],
      "execution_count": null,
      "outputs": [
        {
          "output_type": "error",
          "ename": "KeyboardInterrupt",
          "evalue": "ignored",
          "traceback": [
            "\u001b[0;31m---------------------------------------------------------------------------\u001b[0m",
            "\u001b[0;31mKeyboardInterrupt\u001b[0m                         Traceback (most recent call last)",
            "\u001b[0;32m<ipython-input-22-24f91d3a1bc1>\u001b[0m in \u001b[0;36m<module>\u001b[0;34m()\u001b[0m\n\u001b[0;32m----> 1\u001b[0;31m \u001b[0mX\u001b[0m \u001b[0;34m=\u001b[0m \u001b[0mnp\u001b[0m\u001b[0;34m.\u001b[0m\u001b[0marray\u001b[0m\u001b[0;34m(\u001b[0m\u001b[0mX\u001b[0m\u001b[0;34m)\u001b[0m\u001b[0;34m.\u001b[0m\u001b[0mreshape\u001b[0m\u001b[0;34m(\u001b[0m\u001b[0;34m-\u001b[0m\u001b[0;36m1\u001b[0m\u001b[0;34m,\u001b[0m \u001b[0mIMG_SIZE\u001b[0m\u001b[0;34m,\u001b[0m \u001b[0mIMG_SIZE\u001b[0m\u001b[0;34m,\u001b[0m \u001b[0;36m1\u001b[0m\u001b[0;34m)\u001b[0m\u001b[0;34m\u001b[0m\u001b[0;34m\u001b[0m\u001b[0m\n\u001b[0m\u001b[1;32m      2\u001b[0m \u001b[0my\u001b[0m \u001b[0;34m=\u001b[0m \u001b[0mnp\u001b[0m\u001b[0;34m.\u001b[0m\u001b[0marray\u001b[0m\u001b[0;34m(\u001b[0m\u001b[0my\u001b[0m\u001b[0;34m)\u001b[0m\u001b[0;34m\u001b[0m\u001b[0;34m\u001b[0m\u001b[0m\n\u001b[1;32m      3\u001b[0m \u001b[0mX\u001b[0m \u001b[0;34m=\u001b[0m \u001b[0mX\u001b[0m\u001b[0;34m/\u001b[0m\u001b[0;36m255\u001b[0m \u001b[0;31m#normalization - the image values are always between 0-255, so by dividing them by 255 we get a 0-1 range\u001b[0m\u001b[0;34m\u001b[0m\u001b[0;34m\u001b[0m\u001b[0m\n\u001b[1;32m      4\u001b[0m \u001b[0;31m#######\u001b[0m\u001b[0;34m\u001b[0m\u001b[0;34m\u001b[0m\u001b[0;34m\u001b[0m\u001b[0m\n",
            "\u001b[0;31mKeyboardInterrupt\u001b[0m: "
          ]
        }
      ]
    },
    {
      "cell_type": "code",
      "metadata": {
        "id": "3oy80int1Hbc"
      },
      "source": [
        "#Creating a CNN model.\n",
        "model = Sequential()\n",
        "\n",
        "model.add(Conv2D(64, (6,6), input_shape = X.shape[1:]))\n",
        "model.add(Activation(\"relu\"))\n",
        "model.add(MaxPooling2D(pool_size=(4,4)))\n",
        "\n",
        "model.add(Conv2D(64, (6,6)))\n",
        "model.add(Activation(\"relu\"))\n",
        "model.add(MaxPooling2D(pool_size=(4,4)))\n",
        "\n",
        "model.add(Flatten())  #Flattening 2D layers to 1D(Dense layers).\n",
        "\n",
        "model.add(Dense(128, activation=tf.nn.relu))\n",
        "model.add(Dense(64, activation=tf.nn.relu))\n",
        "model.add(Dense(3, activation=tf.nn.softmax))\n",
        "\n",
        "model.compile(loss=\"sparse_categorical_crossentropy\", optimizer=\"adam\", metrics=[\"accuracy\"])\n",
        "\n",
        "model.fit(X, y, batch_size=16, validation_split=0.05, epochs=4)   #training the model"
      ],
      "execution_count": null,
      "outputs": []
    },
    {
      "cell_type": "code",
      "metadata": {
        "colab": {
          "base_uri": "https://localhost:8080/"
        },
        "id": "NXCiIunnPr00",
        "outputId": "7991b0ef-e4b6-4f05-f7d0-9db66ba18268"
      },
      "source": [
        "model.save(\"/content/gdrive/MyDrive/4epochs.model\")"
      ],
      "execution_count": null,
      "outputs": [
        {
          "output_type": "stream",
          "text": [
            "INFO:tensorflow:Assets written to: /content/gdrive/MyDrive/8epochs.model/assets\n"
          ],
          "name": "stdout"
        }
      ]
    },
    {
      "cell_type": "code",
      "metadata": {
        "id": "csDUDWOoQNUs"
      },
      "source": [
        "import pandas as pd\n",
        "import numpy as np\n",
        "\n",
        "DATA_CSV = '/content/gdrive/MyDrive/Images/assignment5_test_data_metadata.csv' \n",
        "\n",
        "content = pd.read_csv(DATA_CSV, usecols = ['image_name', 'id'], low_memory = True)\n",
        "\n",
        "def predict(imageName): #Loading images from TESTING_DATA_PATH and predicting their value.\n",
        "  img_array = cv2.imread(os.path.join(TESTING_DATA_PATH, imageName), cv2.IMREAD_GRAYSCALE)\n",
        "  img_array = cv2.resize(img_array, (IMG_SIZE, IMG_SIZE))\n",
        "  img_array = np.array(img_array).reshape(-1, IMG_SIZE, IMG_SIZE, 1)\n",
        "  img_array = img_array/255\n",
        "  prediction = model.predict([img_array])\n",
        "  return np.argmax(prediction)+1\n",
        "\n",
        "new_content = []\n",
        "for index, row in content.iterrows(): #Creating DataFrame for output.csv file.\n",
        "  new_content.append([row['id'], predict(row['image_name'])])\n",
        "\n",
        "new_content = pd.DataFrame(new_content, columns=['id', 'type'])\n",
        "new_content.to_csv('/content/gdrive/MyDrive/output8epochs.csv', index =False)"
      ],
      "execution_count": null,
      "outputs": []
    }
  ]
}